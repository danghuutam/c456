{
 "cells": [
  {
   "cell_type": "code",
   "execution_count": null,
   "metadata": {},
   "outputs": [],
   "source": [
    "import threading\n",
    "\n",
    "# Tạo hai đối tượng Event\n",
    "even_event = threading.Event()\n",
    "odd_event = threading.Event()\n",
    "\n",
    "# Định nghĩa hàm để viết các số chẵn\n",
    "def write_even_numbers(limit):\n",
    "    print(\"List of even numbers:\")\n",
    "    for i in range(0, limit + 1, 2):\n",
    "        print(i, end=\" \")\n",
    "        # Đặt sự kiện cho luồng lẻ và xóa sự kiện cho luồng chẵn\n",
    "        odd_event.set()\n",
    "        even_event.clear()\n",
    "        # Đợi cho đến khi sự kiện cho luồng chẵn được đặt\n",
    "        even_event.wait()\n",
    "\n",
    "# Định nghĩa hàm để viết các số lẻ\n",
    "def write_odd_numbers(limit):\n",
    "    print(\"\\nList of odd numbers:\")\n",
    "    for i in range(1, limit + 1, 2):\n",
    "        print(i, end=\" \")\n",
    "        # Đặt sự kiện cho luồng chẵn và xóa sự kiện cho luồng lẻ\n",
    "        even_event.set()\n",
    "        odd_event.clear()\n",
    "        # Đợi cho đến khi sự kiện cho luồng lẻ được đặt\n",
    "        odd_event.wait()\n",
    "\n",
    "# Tạo các luồng và gán mục tiêu cho chúng\n",
    "even_thread = threading.Thread(target=write_even_numbers, args=(10,))\n",
    "odd_thread = threading.Thread(target=write_odd_numbers, args=(10,))\n",
    "\n",
    "# Bắt đầu các luồng\n",
    "even_thread.start()\n",
    "odd_thread.start()\n",
    "\n",
    "# Đợi các luồng kết thúc\n",
    "even_thread.join()\n",
    "odd_thread.join()\n"
   ]
  }
 ],
 "metadata": {
  "language_info": {
   "name": "python"
  }
 },
 "nbformat": 4,
 "nbformat_minor": 2
}
