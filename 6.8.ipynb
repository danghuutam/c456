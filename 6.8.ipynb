{
 "cells": [
  {
   "cell_type": "code",
   "execution_count": null,
   "metadata": {},
   "outputs": [],
   "source": [
    "import threading\n",
    "import random\n",
    "\n",
    "# Định nghĩa hàm để tính tổng các phần tử trong một list con\n",
    "def sum_list(sub_list):\n",
    "    # Lấy tên của Thread hiện tại\n",
    "    thread_name = threading.current_thread().name\n",
    "    # Tính tổng các phần tử trong list con\n",
    "    sub_sum = sum(sub_list)\n",
    "    # In ra kết quả cùng với tên của Thread\n",
    "    print(f\"{thread_name}: {sub_sum}\")\n",
    "    # Trả về kết quả\n",
    "    return sub_sum\n",
    "\n",
    "# Nhập số phần tử\n",
    "n = int(input(\"Nhập số phần tử: \"))\n",
    "# Tạo một list lớn có n phần tử ngẫu nhiên từ 0 đến 10\n",
    "my_list = [random.randint(0, 10) for i in range(n)]\n",
    "# In ra list lớn\n",
    "print(f\"List: {my_list}\")\n",
    "# Nhập số Thread\n",
    "k = int(input(\"Nhập vào số thread: \"))\n",
    "# Chia list lớn thành k list con\n",
    "sub_lists = [my_list[i:i + n//k] for i in range(0, n, n//k)]\n",
    "# Tạo k Thread, mỗi Thread có mục tiêu là hàm sum_list, và tham số là một list con\n",
    "threads = [threading.Thread(target=sum_list, args=(sub_list,), name=f\"Thread {i+1}\") for i, sub_list in enumerate(sub_lists)]\n",
    "# Bắt đầu các Thread\n",
    "for thread in threads:\n",
    "    thread.start()\n",
    "# Đợi các Thread kết thúc và lấy kết quả của chúng\n",
    "results = []\n",
    "for thread in threads:\n",
    "    thread.join()\n",
    "    results.append(thread._return)\n",
    "# Tính tổng các kết quả của các Thread\n",
    "total = sum(results)\n",
    "# In ra kết quả cuối cùng\n",
    "print(f\"Tổng list {total}\")\n"
   ]
  }
 ],
 "metadata": {
  "language_info": {
   "name": "python"
  }
 },
 "nbformat": 4,
 "nbformat_minor": 2
}
