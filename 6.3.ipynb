{
 "cells": [
  {
   "cell_type": "code",
   "execution_count": null,
   "metadata": {},
   "outputs": [],
   "source": [
    "import threading\n",
    "\n",
    "# Tạo hai đối tượng Event\n",
    "even_event = threading.Event()\n",
    "odd_event = threading.Event()\n",
    "\n",
    "# Định nghĩa hàm để in các số chẵn\n",
    "def print_even_numbers():\n",
    "    print(\"List of even numbers:\")\n",
    "    for i in range(30, 51, 2):\n",
    "        print(i, end=\" \")\n",
    "        # Đặt sự kiện cho luồng lẻ và xóa sự kiện cho luồng chẵn\n",
    "        odd_event.set()\n",
    "        even_event.clear()\n",
    "        # Đợi cho đến khi sự kiện cho luồng chẵn được đặt\n",
    "        even_event.wait()\n",
    "\n",
    "# Định nghĩa hàm để in các số lẻ\n",
    "def print_odd_numbers():\n",
    "    print(\"\\nList of odd numbers:\")\n",
    "    for i in range(31, 51, 2):\n",
    "        print(i, end=\" \")\n",
    "        # Đặt sự kiện cho luồng chẵn và xóa sự kiện cho luồng lẻ\n",
    "        even_event.set()\n",
    "        odd_event.clear()\n",
    "        # Đợi cho đến khi sự kiện cho luồng lẻ được đặt\n",
    "        odd_event.wait()\n",
    "\n",
    "# Tạo các luồng và gán mục tiêu cho chúng\n",
    "even_thread = threading.Thread(target=print_even_numbers)\n",
    "odd_thread = threading.Thread(target=print_odd_numbers)\n",
    "\n",
    "# Bắt đầu các luồng\n",
    "even_thread.start()\n",
    "odd_thread.start()\n",
    "\n",
    "# Đợi các luồng kết thúc\n",
    "even_thread.join()\n",
    "odd_thread.join()\n"
   ]
  }
 ],
 "metadata": {
  "language_info": {
   "name": "python"
  }
 },
 "nbformat": 4,
 "nbformat_minor": 2
}
