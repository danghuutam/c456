{
 "cells": [
  {
   "cell_type": "code",
   "execution_count": 1,
   "metadata": {},
   "outputs": [
    {
     "name": "stdout",
     "output_type": "stream",
     "text": [
      "Hello from Thread 1\n",
      "Goodbye from Thread 2\n"
     ]
    }
   ],
   "source": [
    "import threading\n",
    "\n",
    "# Định nghĩa các hàm mục tiêu cho các luồng\n",
    "def hello():\n",
    "    print(f\"Hello from {threading.current_thread().name}\")\n",
    "\n",
    "def goodbye():\n",
    "    print(f\"Goodbye from {threading.current_thread().name}\")\n",
    "\n",
    "# Tạo các luồng và đặt tên cho chúng\n",
    "t1 = threading.Thread(target=hello, name=\"Thread 1\")\n",
    "t2 = threading.Thread(target=goodbye, name=\"Thread 2\")\n",
    "\n",
    "# Bắt đầu các luồng\n",
    "t1.start()\n",
    "t2.start()\n",
    "\n",
    "# Đợi các luồng kết thúc\n",
    "t1.join()\n",
    "t2.join()\n"
   ]
  }
 ],
 "metadata": {
  "kernelspec": {
   "display_name": "base",
   "language": "python",
   "name": "python3"
  },
  "language_info": {
   "codemirror_mode": {
    "name": "ipython",
    "version": 3
   },
   "file_extension": ".py",
   "mimetype": "text/x-python",
   "name": "python",
   "nbconvert_exporter": "python",
   "pygments_lexer": "ipython3",
   "version": "3.11.5"
  }
 },
 "nbformat": 4,
 "nbformat_minor": 2
}
