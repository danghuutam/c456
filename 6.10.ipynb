{
 "cells": [
  {
   "cell_type": "code",
   "execution_count": null,
   "metadata": {},
   "outputs": [],
   "source": [
    "import threading\n",
    "import random\n",
    "\n",
    "# Định nghĩa hàm để tìm giá trị lớn nhất trong một list con\n",
    "def find_max(sub_list, max_value, lock):\n",
    "    # Tìm giá trị lớn nhất trong list con\n",
    "    sub_max = max(sub_list)\n",
    "    # Sử dụng đối tượng Lock để đồng bộ hóa việc cập nhật biến max_value\n",
    "    with lock:\n",
    "        # So sánh giá trị lớn nhất trong list con với giá trị lớn nhất hiện tại\n",
    "        if sub_max > max_value[0]:\n",
    "            # Nếu giá trị lớn nhất trong list con lớn hơn, cập nhật biến max_value\n",
    "            max_value[0] = sub_max\n",
    "\n",
    "# Nhập số phần tử\n",
    "n = int(input(\"Nhập số phần tử: \"))\n",
    "# Tạo một list lớn có n phần tử ngẫu nhiên từ 0 đến 100\n",
    "my_list = [random.randint(0, 100) for i in range(n)]\n",
    "# In ra list lớn\n",
    "print(f\"List: {my_list}\")\n",
    "# Nhập số Thread\n",
    "k = int(input(\"Nhập vào số thread: \"))\n",
    "# Chia list lớn thành k list con\n",
    "sub_lists = [my_list[i:i + n//k] for i in range(0, n, n//k)]\n",
    "# Tạo một biến để lưu giá trị lớn nhất hiện tại, dưới dạng một list có một phần tử\n",
    "max_value = [0]\n",
    "# Tạo một đối tượng Lock để đồng bộ hóa việc cập nhật biến max_value\n",
    "lock = threading.Lock()\n",
    "# Tạo k Thread, mỗi Thread có mục tiêu là hàm find_max, và tham số là một list con, biến max_value, và đối tượng Lock\n",
    "threads = [threading.Thread(target=find_max, args=(sub_list, max_value, lock)) for sub_list in sub_lists]\n",
    "# Bắt đầu các Thread\n",
    "for thread in threads:\n",
    "    thread.start()\n",
    "# Đợi các Thread kết thúc\n",
    "for thread in threads:\n",
    "    thread.join()\n",
    "# In ra giá trị lớn nhất cuối cùng\n",
    "print(f\"Giá trị lớn nhất: {max_value[0]}\")\n"
   ]
  }
 ],
 "metadata": {
  "language_info": {
   "name": "python"
  }
 },
 "nbformat": 4,
 "nbformat_minor": 2
}
