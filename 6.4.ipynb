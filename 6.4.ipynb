{
 "cells": [
  {
   "cell_type": "code",
   "execution_count": 1,
   "metadata": {},
   "outputs": [
    {
     "name": "stdout",
     "output_type": "stream",
     "text": [
      "Factorial is 120\n",
      "Factorial is 3628800\n",
      "Factorial is 1307674368000\n",
      "Factorial is 2432902008176640000\n"
     ]
    }
   ],
   "source": [
    "from concurrent.futures import ThreadPoolExecutor\n",
    "\n",
    "# Định nghĩa hàm để tính giai thừa của một số\n",
    "def factorial(n):\n",
    "    result = 1\n",
    "    for i in range(1, n + 1):\n",
    "        result *= i\n",
    "    return result\n",
    "\n",
    "# Tạo một danh sách các số cần tính giai thừa\n",
    "numbers = [5, 10, 15, 20]\n",
    "\n",
    "# Tạo một đối tượng ThreadPoolExecutor\n",
    "executor = ThreadPoolExecutor(max_workers=4)\n",
    "\n",
    "# Gửi các tác vụ tính giai thừa cho ThreadPoolExecutor\n",
    "futures = [executor.submit(factorial, n) for n in numbers]\n",
    "\n",
    "# Lấy kết quả của các tác vụ\n",
    "for future in futures:\n",
    "    print(f\"Factorial is {future.result()}\")\n",
    "\n",
    "# Giải phóng các tài nguyên\n",
    "executor.shutdown()\n"
   ]
  }
 ],
 "metadata": {
  "kernelspec": {
   "display_name": "base",
   "language": "python",
   "name": "python3"
  },
  "language_info": {
   "codemirror_mode": {
    "name": "ipython",
    "version": 3
   },
   "file_extension": ".py",
   "mimetype": "text/x-python",
   "name": "python",
   "nbconvert_exporter": "python",
   "pygments_lexer": "ipython3",
   "version": "3.11.5"
  }
 },
 "nbformat": 4,
 "nbformat_minor": 2
}
