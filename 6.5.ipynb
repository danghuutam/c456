{
 "cells": [
  {
   "cell_type": "code",
   "execution_count": null,
   "metadata": {},
   "outputs": [],
   "source": [
    "import requests\n",
    "from concurrent.futures import ThreadPoolExecutor\n",
    "\n",
    "# Định nghĩa hàm để tạo một yêu cầu HTTP\n",
    "def make_request(url):\n",
    "    response = requests.get(url)\n",
    "    return response.status_code, response.content\n",
    "\n",
    "# Tạo một danh sách các url cần tạo yêu cầu\n",
    "urls = [\n",
    "    \"https://www.w3resource.com/python-exercises/python-basic-exercise-1.php\",\n",
    "    \"https://www.w3resource.com/python-exercises/python-basic-exercise-2.php\",\n",
    "    \"https://www.w3resource.com/python-exercises/python-basic-exercise-3.php\"\n",
    "]\n",
    "\n",
    "# Tạo một đối tượng ThreadPoolExecutor\n",
    "executor = ThreadPoolExecutor(max_workers=3)\n",
    "\n",
    "# Gửi các tác vụ tạo yêu cầu cho ThreadPoolExecutor\n",
    "futures = [executor.submit(make_request, url) for url in urls]\n",
    "\n",
    "# Lấy kết quả của các tác vụ\n",
    "for future in futures:\n",
    "    status, content = future.result()\n",
    "    print(f\"Status: {status}, Content length: {len(content)}\")\n",
    "\n",
    "# Giải phóng các tài nguyên\n",
    "executor.shutdown()\n"
   ]
  }
 ],
 "metadata": {
  "language_info": {
   "name": "python"
  }
 },
 "nbformat": 4,
 "nbformat_minor": 2
}
