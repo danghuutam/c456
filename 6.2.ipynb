{
 "cells": [
  {
   "cell_type": "code",
   "execution_count": null,
   "metadata": {},
   "outputs": [],
   "source": [
    "import requests\n",
    "from concurrent.futures import ThreadPoolExecutor\n",
    "\n",
    "# Định nghĩa hàm để tải xuống một tệp\n",
    "def download_file(url):\n",
    "    response = requests.get(url)\n",
    "    filename = url.split(\"/\")[-1]\n",
    "    with open(filename, \"wb\") as f:\n",
    "        f.write(response.content)\n",
    "    return filename\n",
    "\n",
    "# Tạo một danh sách các url cần tải xuống\n",
    "urls = [\n",
    "    \"https://www.w3resource.com/python-exercises/python-basic-exercise-1.php\",\n",
    "    \"https://www.w3resource.com/python-exercises/python-basic-exercise-2.php\",\n",
    "    \"https://www.w3resource.com/python-exercises/python-basic-exercise-3.php\"\n",
    "]\n",
    "\n",
    "# Tạo một đối tượng ThreadPoolExecutor\n",
    "executor = ThreadPoolExecutor(max_workers=3)\n",
    "\n",
    "# Gửi các tác vụ tải xuống cho ThreadPoolExecutor\n",
    "futures = [executor.submit(download_file, url) for url in urls]\n",
    "\n",
    "# Lấy kết quả của các tác vụ\n",
    "for future in futures:\n",
    "    print(f\"Downloaded {future.result()} successfully\")\n",
    "\n",
    "# Giải phóng các tài nguyên\n",
    "executor.shutdown()\n"
   ]
  }
 ],
 "metadata": {
  "language_info": {
   "name": "python"
  }
 },
 "nbformat": 4,
 "nbformat_minor": 2
}
